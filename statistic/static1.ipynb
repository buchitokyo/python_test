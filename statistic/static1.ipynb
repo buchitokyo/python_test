{
 "cells": [
  {
   "cell_type": "code",
   "execution_count": 12,
   "metadata": {},
   "outputs": [
    {
     "name": "stdout",
     "output_type": "stream",
     "text": [
      "[[ 1.39089895  1.03009795  1.31628301 -1.57890949 -0.11710082]\n",
      " [ 2.17524415 -0.99998819  0.2876507  -0.10047319  0.23581132]\n",
      " [-1.46578327  0.92828908  0.47216937 -0.19524794 -0.51994401]\n",
      " [ 1.02674169 -0.26116552  0.51504077 -0.15704281 -0.29142403]\n",
      " [-1.40055943 -0.47358094  1.16063757 -0.14389652  0.56386226]]\n",
      "max is\n",
      "2.175244147056753\n",
      "argmax is\n",
      "5\n",
      "0.9282890762388745\n",
      "min is\n",
      "-1.5789094914547945\n",
      "argmin is\n",
      "3\n",
      "mean is\n",
      "0.13590442499137015\n",
      "median is\n",
      "-0.10047318964103961\n",
      "standard deviation is\n",
      "0.9287370426210988\n",
      "2.175244147056753\n",
      "2.175244147056753\n",
      "axis=0> [ 2.17524415  1.03009795  1.31628301 -0.10047319  0.56386226]\n",
      "axis=1> [1.39089895 2.17524415 0.92828908 1.02674169 1.16063757]\n"
     ]
    }
   ],
   "source": [
    "import numpy as np\n",
    "\n",
    "# 縦5、横5\n",
    "random = np.random.randn(5, 5)\n",
    "print(random)\n",
    "\n",
    "#max\n",
    "print('max is')\n",
    "print(random.max())\n",
    "\n",
    "#argmax 最大値のindexを求める\n",
    "print('argmax is')\n",
    "print(random.argmax())\n",
    "\n",
    "print(random.flatten()[11])\n",
    "\n",
    "# min\n",
    "print('min is')\n",
    "print(random.min())\n",
    "\n",
    "# argmin 最小値のindexを求める\n",
    "print('argmin is')\n",
    "print(random.argmin())\n",
    "\n",
    "# mean 平均値を取得します．全ての要素を足して要素数で割った値\n",
    "print('mean is')\n",
    "print(random.mean())\n",
    "\n",
    "# 中央値を取得 真ん中の値 平均値とは意味\n",
    "# npから取得するのに注意\n",
    "# median\n",
    "print('median is')\n",
    "print(np.median(random))\n",
    "\n",
    "# 標準偏差(standard deviation)を取得 標準偏差は、データの分散(ばらつき)を示す指標　𝜎(シグマ)\n",
    "# 各データの値と平均の差を２乗した合計を，データ数で割った正の平方根\n",
    "#std\n",
    "print('standard deviation is')\n",
    "print(random.std())\n",
    "\n",
    "# 上記の関数は全てnp.関数名(ndarray)で呼ぶことも可能\n",
    "print(np.max(random))\n",
    "print(random.max())\n",
    "\n",
    "\n",
    "# 各行の統計量を計算\n",
    "# 特定の行，列での統計量を求めたい場合は引数axisを指定\n",
    "# axis=0を指定すると各列の統計量 axis=1を指定すると各行の統計量を返す\n",
    "print('axis=0> {}'.format(random.max(axis=0)))\n",
    "print('axis=1> {}'.format(random.max(axis=1)))"
   ]
  },
  {
   "cell_type": "code",
   "execution_count": 2,
   "metadata": {},
   "outputs": [
    {
     "name": "stdout",
     "output_type": "stream",
     "text": [
      "4.147166274396913\n"
     ]
    }
   ],
   "source": [
    "import numpy as np\n",
    "from scipy.stats.mstats import gmean\n",
    "\n",
    "# x=[1,2,3,4,5,6,7,8,9]\n",
    "x = np.arange(1, 10)\n",
    "\n",
    "# xの幾何平均を計算\n",
    "x_gmean = gmean(x)\n",
    "\n",
    "print(x_gmean)\n",
    "\n",
    "\n",
    "# 幾何平均で計算したいケースは、比率の平均　geometric mean\n",
    "# データ数がｎ個あったら、ｎ個のデータを掛け合わせて、そのｎ乗根をとることで得られる値 \n",
    "# 四角形を思い浮かべるといい ab = √ab2 (√ab x √ab)\n",
    "\n",
    "# def geo_mean(iterable):\n",
    "#     a = np.array(iterable)\n",
    "#     return a.prod()**(1.0/len(a))\n",
    "\n",
    "#     output_array = geo_mean(iterable)\n",
    "\n",
    "# def geo_mean_overflow(iterable):\n",
    "#     a = np.log(iterable)\n",
    "#     return np.exp(a.sum()/len(a))"
   ]
  },
  {
   "cell_type": "code",
   "execution_count": null,
   "metadata": {},
   "outputs": [],
   "source": []
  }
 ],
 "metadata": {
  "kernelspec": {
   "display_name": "Python 3",
   "language": "python",
   "name": "python3"
  },
  "language_info": {
   "codemirror_mode": {
    "name": "ipython",
    "version": 3
   },
   "file_extension": ".py",
   "mimetype": "text/x-python",
   "name": "python",
   "nbconvert_exporter": "python",
   "pygments_lexer": "ipython3",
   "version": "3.7.4"
  }
 },
 "nbformat": 4,
 "nbformat_minor": 4
}
