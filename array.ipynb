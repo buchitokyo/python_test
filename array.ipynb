{
 "cells": [
  {
   "cell_type": "code",
   "execution_count": 6,
   "metadata": {},
   "outputs": [
    {
     "data": {
      "text/plain": [
       "8"
      ]
     },
     "execution_count": 6,
     "metadata": {},
     "output_type": "execute_result"
    }
   ],
   "source": [
    "3+5"
   ]
  },
  {
   "cell_type": "code",
   "execution_count": 1,
   "metadata": {},
   "outputs": [
    {
     "name": "stdout",
     "output_type": "stream",
     "text": [
      "[[1 2 3]\n",
      " [1 2 3]\n",
      " [1 2 3]]\n"
     ]
    }
   ],
   "source": [
    "import numpy as np\n",
    "# ベクトルや行列など、機械学習で必要となる形式のデータを簡単に扱える\n",
    "np = np.array([[1, 2, 3],[1, 2, 3],[1, 2, 3]])\n",
    "print(np)"
   ]
  },
  {
   "cell_type": "code",
   "execution_count": 4,
   "metadata": {},
   "outputs": [
    {
     "name": "stdout",
     "output_type": "stream",
     "text": [
      "[1 2 3]\n"
     ]
    }
   ],
   "source": [
    "import numpy as np\n",
    "ndarray = np.array([1, 2, 3])\n",
    "print(ndarray)"
   ]
  },
  {
   "cell_type": "code",
   "execution_count": 2,
   "metadata": {},
   "outputs": [
    {
     "name": "stdout",
     "output_type": "stream",
     "text": [
      "original array's id is 140480667420032\n",
      "copied array's id is 140480255305488\n",
      "original array:\n",
      " [100 100 100 100 100]\n",
      "copied array:\n",
      " [0 1 2 3 4]\n"
     ]
    }
   ],
   "source": [
    "import numpy as np\n",
    "ndarray = np.arange(0, 5)\n",
    "ndarray_copy = ndarray.copy() #オブジェクトが変わる\n",
    "print(\"original array's id is {}\".format(id(ndarray)))\n",
    "print(\"copied array's id is {}\".format(id(ndarray_copy)))\n",
    " \n",
    "#changing original array\n",
    "ndarray[:] = 100\n",
    "print('original array:\\n', ndarray)\n",
    "print('copied array:\\n', ndarray_copy)"
   ]
  },
  {
   "cell_type": "code",
   "execution_count": 3,
   "metadata": {},
   "outputs": [
    {
     "name": "stdout",
     "output_type": "stream",
     "text": [
      "output_str: hello world\n",
      "output_list: ['h', 'e', 'l', 'l', 'o', ' ', 'w', 'o', 'r', 'l', 'd']\n",
      "h_str: hello\n",
      "h_list: ['h', 'e', 'l', 'l', 'o', ' ', 'w', 'o', 'r', 'l', 'd']\n"
     ]
    }
   ],
   "source": [
    "def add_world(hello):\n",
    "    hello += ' world'\n",
    "    return hello\n",
    " \n",
    "h_str = 'hello'\n",
    "h_list = ['h', 'e', 'l', 'l', 'o']\n",
    "output_str = add_world(h_str)\n",
    "output_list = add_world(h_list)\n",
    " \n",
    "print('output_str: {}'.format(output_str))\n",
    "print('output_list: {}'.format(output_list))\n",
    " \n",
    "print('h_str: {}'.format(h_str))\n",
    "print('h_list: {}'.format(h_list))"
   ]
  },
  {
   "cell_type": "code",
   "execution_count": 5,
   "metadata": {},
   "outputs": [
    {
     "name": "stdout",
     "output_type": "stream",
     "text": [
      "original array_1:\n",
      " [100   1   2   3]\n",
      "original array_2:\n",
      " [0 1 2 3]\n"
     ]
    }
   ],
   "source": [
    "import numpy as np\n",
    "def change_hundred(array):\n",
    " \n",
    "    array[0] = 100\n",
    "    return array\n",
    " \n",
    "def change_hundred_copy(array):\n",
    "    \n",
    "    #.copy() をしないと直接もとの変数を上書きしてしまう(値渡し)\n",
    "    array_copy = array.copy() \n",
    "    array_copy[0] = 100\n",
    "    return array_copy\n",
    " \n",
    "array_1 = np.arange(0, 4)\n",
    "array_2 = np.arange(0, 4)\n",
    " \n",
    "output_array = change_hundred(array_1)\n",
    "output_array_copy = change_hundred_copy(array_2)\n",
    " \n",
    "print('original array_1:\\n', array_1)\n",
    "print('original array_2:\\n', array_2)"
   ]
  },
  {
   "cell_type": "code",
   "execution_count": null,
   "metadata": {},
   "outputs": [],
   "source": [
    "shape = (2, 3, 5) #タプル　２つの配列、３つ次元数、５つの行\n",
    "zeros = np.zeros(shape)"
   ]
  }
 ],
 "metadata": {
  "kernelspec": {
   "display_name": "Python 3",
   "language": "python",
   "name": "python3"
  },
  "language_info": {
   "codemirror_mode": {
    "name": "ipython",
    "version": 3
   },
   "file_extension": ".py",
   "mimetype": "text/x-python",
   "name": "python",
   "nbconvert_exporter": "python",
   "pygments_lexer": "ipython3",
   "version": "3.7.4"
  }
 },
 "nbformat": 4,
 "nbformat_minor": 4
}
