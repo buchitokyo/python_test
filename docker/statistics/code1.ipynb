{
 "cells": [
  {
   "cell_type": "markdown",
   "metadata": {},
   "source": [
    "要素の統計量を求める"
   ]
  },
  {
   "cell_type": "code",
   "execution_count": 6,
   "metadata": {},
   "outputs": [
    {
     "name": "stdout",
     "output_type": "stream",
     "text": [
      "[[-1.36639289 -0.83997649  0.78907133  0.88684188 -0.05263116]\n",
      " [ 0.68830748  0.14657176 -0.61607313  2.13856491 -0.22816847]\n",
      " [-1.21315029  1.44743815 -1.49133836 -0.37786093  0.61093828]\n",
      " [ 0.55728706  0.72313085 -1.09585274 -0.97770237 -1.36669496]\n",
      " [ 1.62856308 -0.89200717  1.22725071 -0.88265723  1.64032508]]\n",
      "max is\n",
      "2.138564909983658\n",
      "argmax is\n",
      "8\n",
      "min is\n",
      "-1.491338360879626\n",
      "min is\n",
      "12\n",
      "mean is\n",
      "0.04335137422497641\n",
      "median is\n",
      "-0.05263116113247132\n",
      "standard deviation is\n",
      "1.0775280526597684\n"
     ]
    }
   ],
   "source": [
    "import numpy as np\n",
    "\n",
    "# 標準正規分布\n",
    "normal_dist_mat = np.random.randn(5, 5)\n",
    "print(normal_dist_mat)\n",
    "\n",
    "#max\n",
    "print('max is')\n",
    "print(normal_dist_mat.max())\n",
    "\n",
    "#argmax 最大値のindex\n",
    "print('argmax is')\n",
    "print(normal_dist_mat.argmax())\n",
    "\n",
    "#min\n",
    "print('min is')\n",
    "print(normal_dist_mat.min())\n",
    "\n",
    "#argmin 最小値のindex\n",
    "print('min is')\n",
    "print(normal_dist_mat.argmin())\n",
    "\n",
    "#mean　平均値　要素の数足して、その分でわる\n",
    "print('mean is')\n",
    "print(normal_dist_mat.mean())\n",
    "\n",
    "#median　中央値\n",
    "print('median is')\n",
    "print(np.median(normal_dist_mat))\n",
    "\n",
    "#std　標準偏差　各データの値と平均の差を２乗した合計を，データ数で割った正の平方根\n",
    "print('standard deviation is')\n",
    "print(normal_dist_mat.std())"
   ]
  },
  {
   "cell_type": "code",
   "execution_count": null,
   "metadata": {},
   "outputs": [],
   "source": []
  }
 ],
 "metadata": {
  "kernelspec": {
   "display_name": "Python 3",
   "language": "python",
   "name": "python3"
  },
  "language_info": {
   "codemirror_mode": {
    "name": "ipython",
    "version": 3
   },
   "file_extension": ".py",
   "mimetype": "text/x-python",
   "name": "python",
   "nbconvert_exporter": "python",
   "pygments_lexer": "ipython3",
   "version": "3.7.4"
  }
 },
 "nbformat": 4,
 "nbformat_minor": 4
}
