{
 "cells": [
  {
   "cell_type": "code",
   "execution_count": 1,
   "metadata": {},
   "outputs": [],
   "source": [
    "from dataclasses import dataclass\n",
    "from typing import Any, Dict, List, Optional\n",
    "import mysql.connector\n",
    "\n",
    "\n",
    "@dataclass\n",
    "class MySQLClient:\n",
    "    user: str = \"root\"\n",
    "    password: str = \"root\"\n",
    "    host: str = \"db\"\n",
    "    database_name: str = \"globis-dev\"\n",
    "    cur: Optional[Any] = None\n",
    "    conn: Optional[Any] = None\n",
    "\n",
    "    @classmethod\n",
    "    def create(cls, user: str, password: str, host: str, database_name: str,) -> 'MysqlConnectorManager':\n",
    "        return MysqlConnectorManager(user=user, password = password, host = host, database_name = database_name)\n",
    "\n",
    "    def __del__(self):\n",
    "        self._close_connection()\n",
    "\n",
    "    def start_connection(self) -> None:\n",
    "        \"\"\" Connect with DB. \"\"\"\n",
    "        self.conn = mysql.connector.connect(\n",
    "            user = self.user,\n",
    "            password = self.password,\n",
    "            host = self.host,\n",
    "            database = self.database_name\n",
    "        )\n",
    "\n",
    "        # DB接続の確認\n",
    "        if not self.conn.is_connected():\n",
    "            raise Exception(\"Failed to connect with DB.\")\n",
    "\n",
    "        self.cur = self.conn.cursor(dictionary=True)\n",
    "\n",
    "    def _close_connection(self) -> None:\n",
    "        \"\"\" Shut down to connect with DB. \"\"\"\n",
    "        self.cur.close\n",
    "        self.conn.close\n",
    "        self.cur = None\n",
    "        self.conn = None\n",
    "\n",
    "    def fetch_data(self, query: str) -> List[Dict[str, Any]]:\n",
    "        \"\"\" Get data.\"\"\"\n",
    "        self.cur.execute(query)\n",
    "        fetched_contents: List[Dict[str, Any]] = self.cur.fetchall()\n",
    "\n",
    "        return fetched_contents\n",
    "\n"
   ]
  }
 ],
 "metadata": {
  "kernelspec": {
   "display_name": "Python 3",
   "language": "python",
   "name": "python3"
  },
  "language_info": {
   "codemirror_mode": {
    "name": "ipython",
    "version": 3
   },
   "file_extension": ".py",
   "mimetype": "text/x-python",
   "name": "python",
   "nbconvert_exporter": "python",
   "pygments_lexer": "ipython3",
   "version": "3.7.4"
  }
 },
 "nbformat": 4,
 "nbformat_minor": 4
}
