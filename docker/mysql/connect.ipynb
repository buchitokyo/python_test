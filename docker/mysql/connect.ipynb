{
 "cells": [
  {
   "cell_type": "code",
   "execution_count": 49,
   "metadata": {},
   "outputs": [
    {
     "name": "stdout",
     "output_type": "stream",
     "text": [
      "True\n",
      "[{'id': 1, 'name': 'Administrator', 'slug': 'administrator', 'created_at': datetime.datetime(2019, 10, 8, 1, 41, 50), 'updated_at': datetime.datetime(2019, 10, 8, 1, 41, 50)}, {'id': 2, 'name': 'オペ', 'slug': 'operator', 'created_at': datetime.datetime(2020, 7, 31, 0, 23, 29), 'updated_at': datetime.datetime(2020, 7, 31, 0, 23, 29)}]\n",
      "* Administrator\n",
      "Error Occurred: 'dict' object has no attribute 'format'\n"
     ]
    }
   ],
   "source": [
    "import pandas as pd\n",
    "import mysql.connector as mysql\n",
    "import openpyxl\n",
    "\n",
    "conn = None\n",
    "try:\n",
    "    conn = mysql.connect (\n",
    "        host = \"db\",\n",
    "        port = \"3306\" ,\n",
    "        user = \"root\",\n",
    "        password = \"root\",\n",
    "        database = \"globis-dev\",\n",
    "    )\n",
    "\n",
    "    conn.ping(reconnect=True)\n",
    "\n",
    "    print(conn.is_connected())\n",
    "\n",
    "\n",
    "    cur = conn.cursor(dictionary=True)\n",
    "    cur.execute(\"SELECT * FROM admin_roles ORDER BY id ASC\")\n",
    "    rows = cur.fetchall()\n",
    "    # cursor.execute(sql, param)\n",
    "\n",
    "    print(rows)\n",
    "\n",
    "    wb = openpyxl.load_workbook(filename = \"./test.xlsx\")\n",
    "    ws = wb[\"Sheet1\"]\n",
    "    for (row) in rows:\n",
    "        print(\"* {Name}\".format(Name = row['name']))\n",
    "        row.format(Name = row['name'])\n",
    "\n",
    "    # ws.cell(row=1,column=1).value=\"tettetettet\"\n",
    "\n",
    "    ws.append(Name)\n",
    "    wb.save(filename=\"./test.xlsx\")\n",
    "    wb.close()\n",
    "\n",
    "except Exception as e:\n",
    "    print(f\"Error Occurred: {e}\")\n",
    "finally:\n",
    "    if conn is not None and conn.is_connected():\n",
    "        conn.close()"
   ]
  },
  {
   "cell_type": "code",
   "execution_count": null,
   "metadata": {},
   "outputs": [],
   "source": []
  }
 ],
 "metadata": {
  "kernelspec": {
   "display_name": "Python 3",
   "language": "python",
   "name": "python3"
  },
  "language_info": {
   "codemirror_mode": {
    "name": "ipython",
    "version": 3
   },
   "file_extension": ".py",
   "mimetype": "text/x-python",
   "name": "python",
   "nbconvert_exporter": "python",
   "pygments_lexer": "ipython3",
   "version": "3.7.4"
  }
 },
 "nbformat": 4,
 "nbformat_minor": 4
}
